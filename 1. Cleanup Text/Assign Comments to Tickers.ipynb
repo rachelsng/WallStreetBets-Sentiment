{
 "cells": [
  {
   "cell_type": "markdown",
   "id": "0eccf66e-d08e-45c0-9e8b-807af26403d1",
   "metadata": {},
   "source": [
    "# Assign Cleaned Comments to Tickers\n",
    "\n",
    "- Create comments_preprocessed_assigned.csv"
   ]
  },
  {
   "cell_type": "code",
   "execution_count": 1,
   "id": "0136c1f2-f2cd-43b7-a4f3-494d234050fa",
   "metadata": {},
   "outputs": [],
   "source": [
    "import pandas as pd\n",
    "import numpy as np\n",
    "import seaborn as sns\n",
    "import matplotlib.pyplot as plt\n",
    "\n",
    "import re"
   ]
  },
  {
   "cell_type": "code",
   "execution_count": 2,
   "id": "d3b8d9c8-5025-4d37-ae32-aabe840b8b68",
   "metadata": {},
   "outputs": [
    {
     "name": "stderr",
     "output_type": "stream",
     "text": [
      "/var/folders/d7/r_slgx394x7008mdj1mj14v40000gn/T/ipykernel_21429/3718352609.py:1: DtypeWarning: Columns (5,9) have mixed types. Specify dtype option on import or set low_memory=False.\n",
      "  df = pd.read_csv(\"comments_preprocessed.csv\")\n"
     ]
    },
    {
     "data": {
      "text/html": [
       "<div>\n",
       "<style scoped>\n",
       "    .dataframe tbody tr th:only-of-type {\n",
       "        vertical-align: middle;\n",
       "    }\n",
       "\n",
       "    .dataframe tbody tr th {\n",
       "        vertical-align: top;\n",
       "    }\n",
       "\n",
       "    .dataframe thead th {\n",
       "        text-align: right;\n",
       "    }\n",
       "</style>\n",
       "<table border=\"1\" class=\"dataframe\">\n",
       "  <thead>\n",
       "    <tr style=\"text-align: right;\">\n",
       "      <th></th>\n",
       "      <th>Unnamed: 0</th>\n",
       "      <th>index</th>\n",
       "      <th>filename</th>\n",
       "      <th>author</th>\n",
       "      <th>body</th>\n",
       "      <th>created_utc</th>\n",
       "      <th>id</th>\n",
       "      <th>link_id</th>\n",
       "      <th>permalink</th>\n",
       "      <th>score</th>\n",
       "      <th>subreddit</th>\n",
       "      <th>search_term</th>\n",
       "      <th>post_name</th>\n",
       "    </tr>\n",
       "  </thead>\n",
       "  <tbody>\n",
       "    <tr>\n",
       "      <th>0</th>\n",
       "      <td>1</td>\n",
       "      <td>1</td>\n",
       "      <td>SUPRATIK_0.csv</td>\n",
       "      <td>okgeezeok</td>\n",
       "      <td>NaN</td>\n",
       "      <td>1612139703.0</td>\n",
       "      <td>gljgye5</td>\n",
       "      <td>t3_l7c2a3</td>\n",
       "      <td>/r/wallstreetbets/comments/l7c2a3/fuck_the_hed...</td>\n",
       "      <td>1.0</td>\n",
       "      <td>wallstreetbets</td>\n",
       "      <td>l7c2a3</td>\n",
       "      <td>Fuck the hedge funds; diamond hands. AMC to th...</td>\n",
       "    </tr>\n",
       "    <tr>\n",
       "      <th>1</th>\n",
       "      <td>2</td>\n",
       "      <td>2</td>\n",
       "      <td>SUPRATIK_0.csv</td>\n",
       "      <td>LegitimateInjury5720</td>\n",
       "      <td>da moon</td>\n",
       "      <td>1611968923.0</td>\n",
       "      <td>glbe5gt</td>\n",
       "      <td>t3_l7c2a3</td>\n",
       "      <td>/r/wallstreetbets/comments/l7c2a3/fuck_the_hed...</td>\n",
       "      <td>1.0</td>\n",
       "      <td>wallstreetbets</td>\n",
       "      <td>l7c2a3</td>\n",
       "      <td>Fuck the hedge funds; diamond hands. AMC to th...</td>\n",
       "    </tr>\n",
       "    <tr>\n",
       "      <th>2</th>\n",
       "      <td>4</td>\n",
       "      <td>4</td>\n",
       "      <td>SUPRATIK_0.csv</td>\n",
       "      <td>jawnlerdoe</td>\n",
       "      <td>open together</td>\n",
       "      <td>1611895308.0</td>\n",
       "      <td>gl71p20</td>\n",
       "      <td>t3_l7c2a3</td>\n",
       "      <td>/r/wallstreetbets/comments/l7c2a3/fuck_the_hed...</td>\n",
       "      <td>1.0</td>\n",
       "      <td>wallstreetbets</td>\n",
       "      <td>l7c2a3</td>\n",
       "      <td>Fuck the hedge funds; diamond hands. AMC to th...</td>\n",
       "    </tr>\n",
       "    <tr>\n",
       "      <th>3</th>\n",
       "      <td>7</td>\n",
       "      <td>7</td>\n",
       "      <td>SUPRATIK_0.csv</td>\n",
       "      <td>JokersKnight</td>\n",
       "      <td>invest strong really behind</td>\n",
       "      <td>1611891585.0</td>\n",
       "      <td>gl6tpoi</td>\n",
       "      <td>t3_l7c2a3</td>\n",
       "      <td>/r/wallstreetbets/comments/l7c2a3/fuck_the_hed...</td>\n",
       "      <td>1.0</td>\n",
       "      <td>wallstreetbets</td>\n",
       "      <td>l7c2a3</td>\n",
       "      <td>Fuck the hedge funds; diamond hands. AMC to th...</td>\n",
       "    </tr>\n",
       "    <tr>\n",
       "      <th>4</th>\n",
       "      <td>9</td>\n",
       "      <td>9</td>\n",
       "      <td>SUPRATIK_0.csv</td>\n",
       "      <td>JoeWelburg</td>\n",
       "      <td>amc legit go roof tomorrow</td>\n",
       "      <td>1611889728.0</td>\n",
       "      <td>gl6pihh</td>\n",
       "      <td>t3_l7c2a3</td>\n",
       "      <td>/r/wallstreetbets/comments/l7c2a3/fuck_the_hed...</td>\n",
       "      <td>2.0</td>\n",
       "      <td>wallstreetbets</td>\n",
       "      <td>l7c2a3</td>\n",
       "      <td>Fuck the hedge funds; diamond hands. AMC to th...</td>\n",
       "    </tr>\n",
       "  </tbody>\n",
       "</table>\n",
       "</div>"
      ],
      "text/plain": [
       "   Unnamed: 0  index        filename                author  \\\n",
       "0           1      1  SUPRATIK_0.csv             okgeezeok   \n",
       "1           2      2  SUPRATIK_0.csv  LegitimateInjury5720   \n",
       "2           4      4  SUPRATIK_0.csv            jawnlerdoe   \n",
       "3           7      7  SUPRATIK_0.csv          JokersKnight   \n",
       "4           9      9  SUPRATIK_0.csv            JoeWelburg   \n",
       "\n",
       "                          body   created_utc       id    link_id  \\\n",
       "0                          NaN  1612139703.0  gljgye5  t3_l7c2a3   \n",
       "1                      da moon  1611968923.0  glbe5gt  t3_l7c2a3   \n",
       "2                open together  1611895308.0  gl71p20  t3_l7c2a3   \n",
       "3  invest strong really behind  1611891585.0  gl6tpoi  t3_l7c2a3   \n",
       "4   amc legit go roof tomorrow  1611889728.0  gl6pihh  t3_l7c2a3   \n",
       "\n",
       "                                           permalink score       subreddit  \\\n",
       "0  /r/wallstreetbets/comments/l7c2a3/fuck_the_hed...   1.0  wallstreetbets   \n",
       "1  /r/wallstreetbets/comments/l7c2a3/fuck_the_hed...   1.0  wallstreetbets   \n",
       "2  /r/wallstreetbets/comments/l7c2a3/fuck_the_hed...   1.0  wallstreetbets   \n",
       "3  /r/wallstreetbets/comments/l7c2a3/fuck_the_hed...   1.0  wallstreetbets   \n",
       "4  /r/wallstreetbets/comments/l7c2a3/fuck_the_hed...   2.0  wallstreetbets   \n",
       "\n",
       "  search_term                                          post_name  \n",
       "0      l7c2a3  Fuck the hedge funds; diamond hands. AMC to th...  \n",
       "1      l7c2a3  Fuck the hedge funds; diamond hands. AMC to th...  \n",
       "2      l7c2a3  Fuck the hedge funds; diamond hands. AMC to th...  \n",
       "3      l7c2a3  Fuck the hedge funds; diamond hands. AMC to th...  \n",
       "4      l7c2a3  Fuck the hedge funds; diamond hands. AMC to th...  "
      ]
     },
     "execution_count": 2,
     "metadata": {},
     "output_type": "execute_result"
    }
   ],
   "source": [
    "df = pd.read_csv(\"comments_preprocessed.csv\")\n",
    "df.head()"
   ]
  },
  {
   "cell_type": "code",
   "execution_count": 4,
   "id": "3e7d8aae-e90b-410b-9da5-6a015373685e",
   "metadata": {},
   "outputs": [],
   "source": [
    "# create columns for each stock\n",
    "\n",
    "tickers = ['amzn', 'meta', 'fb', 'pltr', 'clov', 'bb', 'nok','amc', 'tsla', 'wish','amazon', 'facebook', 'palantir', 'clover', 'blackberry', 'nokia', 'tesla', 'contextlogic']\n",
    "for ticker in tickers:\n",
    "    df[ticker]=0\n",
    "    \n",
    "# count the number of tickers mentioned in the body\n",
    "\n",
    "for i in range (len(df)):\n",
    "    for ticker in tickers:\n",
    "        if bool(re.search(ticker,str(df.loc[i,'body']))) is True:\n",
    "            df.loc[i,ticker]= df.loc[i,ticker] +1"
   ]
  },
  {
   "cell_type": "code",
   "execution_count": 5,
   "id": "6ee36316-208f-49b8-ad09-8c57f9fcd6c7",
   "metadata": {},
   "outputs": [],
   "source": [
    "# return the most mentioned stock in ticker mentioned column\n",
    "\n",
    "df['ticker most mentioned in body'] = df[['amzn', 'meta', 'fb', 'pltr', 'clov', 'bb', 'nok','amc', 'tsla', 'wish','amazon', 'facebook', 'palantir', 'clover', 'blackberry', 'nokia', 'tesla', 'contextlogic']].idxmax(axis=1)\n",
    "\n",
    "for i in range( len (df)):\n",
    "    \n",
    "    df.loc[i,'mentioned in body']=df.loc[i,df.loc[i,'ticker most mentioned in body']]"
   ]
  },
  {
   "cell_type": "code",
   "execution_count": 6,
   "id": "12cca269-fcb8-4de6-bcfc-aea8f5272f5a",
   "metadata": {},
   "outputs": [
    {
     "data": {
      "text/plain": [
       "0    fuck the hedge funds; diamond hands. amc to th...\n",
       "1    fuck the hedge funds; diamond hands. amc to th...\n",
       "2    fuck the hedge funds; diamond hands. amc to th...\n",
       "3    fuck the hedge funds; diamond hands. amc to th...\n",
       "4    fuck the hedge funds; diamond hands. amc to th...\n",
       "Name: post_name, dtype: object"
      ]
     },
     "execution_count": 6,
     "metadata": {},
     "output_type": "execute_result"
    }
   ],
   "source": [
    "# Apply lowercasing to post name\n",
    "df['post_name'] = df['post_name'].str.lower()\n",
    "\n",
    "df['post_name'][0:5]"
   ]
  },
  {
   "cell_type": "code",
   "execution_count": 7,
   "id": "d40e13fa-a855-4bba-8ce4-b861285678db",
   "metadata": {},
   "outputs": [],
   "source": [
    "# count the tickers mentioned in the post_name\n",
    "\n",
    "for ticker in tickers:\n",
    "    df[ticker]=0\n",
    "\n",
    "for i in range (len(df)):\n",
    "    for ticker in tickers:\n",
    "        if bool(re.search(ticker,str(df.loc[i,'post_name']))) is True:\n",
    "            df.loc[i,ticker]= df.loc[i,ticker] +1"
   ]
  },
  {
   "cell_type": "code",
   "execution_count": 8,
   "id": "7c68e337-0c97-482a-97f0-d562132dd125",
   "metadata": {},
   "outputs": [],
   "source": [
    "df['mentioned in post_name']=0\n",
    "df['ticker most mentioned in post_name'] = df[['amzn', 'meta', 'fb', 'pltr', 'clov', 'bb', 'nok','amc', 'tsla', 'wish','amazon', 'facebook', 'palantir', 'clover', 'blackberry', 'nokia', 'tesla', 'contextlogic']].idxmax(axis=1)\n",
    "for i in range( len (df)):\n",
    "    df['mentioned in post_name']=df.loc[i,df.loc[i,'ticker most mentioned in post_name']]"
   ]
  },
  {
   "cell_type": "code",
   "execution_count": 9,
   "id": "ef994b2f-3bc7-4ab6-95dc-a684e151db6a",
   "metadata": {},
   "outputs": [],
   "source": [
    "for i in range(len(df)):\n",
    "    if df.loc[i,'mentioned in body'] >0:\n",
    "        df.loc[i,'ticker'] = df.loc[i,'ticker most mentioned in body']\n",
    "    else:\n",
    "        df.loc[i,'ticker'] = df.loc[i,'ticker most mentioned in post_name']"
   ]
  },
  {
   "cell_type": "code",
   "execution_count": 10,
   "id": "8b080b32-b7ef-4d60-a1d0-8edceda5ad7e",
   "metadata": {},
   "outputs": [],
   "source": [
    "#replace full name with ticker name in ticker mentioned\n",
    "names= ['amazon', 'meta', 'facebook', 'palantir', 'clover', 'blackberry', 'nokia','amc', 'tesla', 'contextlogic']\n",
    "tickers = ['amzn', 'meta', 'fb', 'pltr', 'clov', 'bb', 'nok','amc', 'tsla', 'wish']\n",
    "    \n",
    "for name, ticker in list(zip(names, tickers)):\n",
    "    df['ticker']=df['ticker'].replace(to_replace= name ,value= ticker)"
   ]
  },
  {
   "cell_type": "code",
   "execution_count": 12,
   "id": "8ca6c2ad-c0ca-4bf0-a23e-02e9ff85c5c6",
   "metadata": {},
   "outputs": [],
   "source": [
    "df.to_csv('combined_comments_assigned.csv')"
   ]
  }
 ],
 "metadata": {
  "kernelspec": {
   "display_name": "Python 3 (ipykernel)",
   "language": "python",
   "name": "python3"
  },
  "language_info": {
   "codemirror_mode": {
    "name": "ipython",
    "version": 3
   },
   "file_extension": ".py",
   "mimetype": "text/x-python",
   "name": "python",
   "nbconvert_exporter": "python",
   "pygments_lexer": "ipython3",
   "version": "3.10.2"
  }
 },
 "nbformat": 4,
 "nbformat_minor": 5
}
